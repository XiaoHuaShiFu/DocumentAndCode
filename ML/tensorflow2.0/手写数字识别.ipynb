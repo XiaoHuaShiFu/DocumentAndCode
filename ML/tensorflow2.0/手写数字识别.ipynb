{
 "cells": [
  {
   "cell_type": "code",
   "execution_count": 1,
   "metadata": {},
   "outputs": [
    {
     "name": "stderr",
     "output_type": "stream",
     "text": [
      "Using TensorFlow backend.\n"
     ]
    }
   ],
   "source": [
    "import keras\n",
    "from keras import layers\n",
    "import matplotlib.pyplot as plt\n",
    "%matplotlib inline"
   ]
  },
  {
   "cell_type": "code",
   "execution_count": 2,
   "metadata": {},
   "outputs": [],
   "source": [
    "import keras.datasets.mnist as mnist"
   ]
  },
  {
   "cell_type": "code",
   "execution_count": 3,
   "metadata": {},
   "outputs": [
    {
     "name": "stdout",
     "output_type": "stream",
     "text": [
      "Downloading data from https://s3.amazonaws.com/img-datasets/mnist.npz\n",
      "11493376/11490434 [==============================] - 4s 0us/step\n"
     ]
    }
   ],
   "source": [
    "(train_image, train_label), (test_image, test_label) = mnist.load_data()"
   ]
  },
  {
   "cell_type": "code",
   "execution_count": 4,
   "metadata": {},
   "outputs": [
    {
     "data": {
      "text/plain": [
       "(60000, 28, 28)"
      ]
     },
     "execution_count": 4,
     "metadata": {},
     "output_type": "execute_result"
    }
   ],
   "source": [
    "train_image.shape"
   ]
  },
  {
   "cell_type": "code",
   "execution_count": 5,
   "metadata": {},
   "outputs": [],
   "source": [
    "model = keras.Sequential()\n",
    "model.add(layers.Flatten())\n",
    "model.add(layers.Dense(64, activation='relu'))\n",
    "model.add(layers.Dense(10, activation='softmax'))\n",
    "model.compile(optimizer='adam', loss='sparse_categorical_crossentropy', metrics=['acc'])"
   ]
  },
  {
   "cell_type": "code",
   "execution_count": 11,
   "metadata": {},
   "outputs": [
    {
     "name": "stdout",
     "output_type": "stream",
     "text": [
      "Train on 60000 samples, validate on 10000 samples\n",
      "Epoch 1/50\n",
      "60000/60000 [==============================] - 1s 11us/step - loss: 0.0562 - acc: 0.9828 - val_loss: 0.5629 - val_acc: 0.9526\n",
      "Epoch 2/50\n",
      "60000/60000 [==============================] - 1s 11us/step - loss: 0.0528 - acc: 0.9834 - val_loss: 0.6066 - val_acc: 0.9526\n",
      "Epoch 3/50\n",
      "60000/60000 [==============================] - 1s 11us/step - loss: 0.0532 - acc: 0.9836 - val_loss: 0.5942 - val_acc: 0.9533\n",
      "Epoch 4/50\n",
      "60000/60000 [==============================] - 1s 11us/step - loss: 0.0565 - acc: 0.9821 - val_loss: 0.6015 - val_acc: 0.9536\n",
      "Epoch 5/50\n",
      "60000/60000 [==============================] - 1s 11us/step - loss: 0.0519 - acc: 0.9838 - val_loss: 0.6135 - val_acc: 0.9534\n",
      "Epoch 6/50\n",
      "60000/60000 [==============================] - 1s 11us/step - loss: 0.0523 - acc: 0.9837 - val_loss: 0.6011 - val_acc: 0.9536\n",
      "Epoch 7/50\n",
      "60000/60000 [==============================] - 1s 11us/step - loss: 0.0515 - acc: 0.9839 - val_loss: 0.5665 - val_acc: 0.9527\n",
      "Epoch 8/50\n",
      "60000/60000 [==============================] - 1s 11us/step - loss: 0.0519 - acc: 0.9837 - val_loss: 0.5646 - val_acc: 0.9513\n",
      "Epoch 9/50\n",
      "60000/60000 [==============================] - 1s 11us/step - loss: 0.0530 - acc: 0.9836 - val_loss: 0.6386 - val_acc: 0.9530\n",
      "Epoch 10/50\n",
      "60000/60000 [==============================] - 1s 10us/step - loss: 0.0580 - acc: 0.9827 - val_loss: 0.5858 - val_acc: 0.9507\n",
      "Epoch 11/50\n",
      "60000/60000 [==============================] - 1s 11us/step - loss: 0.0570 - acc: 0.9829 - val_loss: 0.6211 - val_acc: 0.9513\n",
      "Epoch 12/50\n",
      "60000/60000 [==============================] - 1s 11us/step - loss: 0.0537 - acc: 0.9834 - val_loss: 0.5995 - val_acc: 0.9519\n",
      "Epoch 13/50\n",
      "60000/60000 [==============================] - 1s 10us/step - loss: 0.0525 - acc: 0.9837 - val_loss: 0.6043 - val_acc: 0.9507\n",
      "Epoch 14/50\n",
      "60000/60000 [==============================] - 1s 11us/step - loss: 0.0523 - acc: 0.9835 - val_loss: 0.6013 - val_acc: 0.9517\n",
      "Epoch 15/50\n",
      "60000/60000 [==============================] - 1s 11us/step - loss: 0.0513 - acc: 0.9838 - val_loss: 0.6101 - val_acc: 0.9522\n",
      "Epoch 16/50\n",
      "60000/60000 [==============================] - 1s 11us/step - loss: 0.0505 - acc: 0.9839 - val_loss: 0.6449 - val_acc: 0.9508\n",
      "Epoch 17/50\n",
      "60000/60000 [==============================] - 1s 11us/step - loss: 0.0516 - acc: 0.9840 - val_loss: 0.6321 - val_acc: 0.9515\n",
      "Epoch 18/50\n",
      "60000/60000 [==============================] - 1s 11us/step - loss: 0.0530 - acc: 0.9837 - val_loss: 0.6033 - val_acc: 0.9517\n",
      "Epoch 19/50\n",
      "60000/60000 [==============================] - 1s 11us/step - loss: 0.0524 - acc: 0.9838 - val_loss: 0.6281 - val_acc: 0.9522\n",
      "Epoch 20/50\n",
      "60000/60000 [==============================] - 1s 11us/step - loss: 0.0509 - acc: 0.9842 - val_loss: 0.6265 - val_acc: 0.9529\n",
      "Epoch 21/50\n",
      "60000/60000 [==============================] - 1s 11us/step - loss: 0.0495 - acc: 0.9844 - val_loss: 0.6134 - val_acc: 0.9517\n",
      "Epoch 22/50\n",
      "60000/60000 [==============================] - 1s 11us/step - loss: 0.0491 - acc: 0.9847 - val_loss: 0.6588 - val_acc: 0.9502\n",
      "Epoch 23/50\n",
      "60000/60000 [==============================] - 1s 11us/step - loss: 0.0494 - acc: 0.9844 - val_loss: 0.6396 - val_acc: 0.9513\n",
      "Epoch 24/50\n",
      "60000/60000 [==============================] - 1s 11us/step - loss: 0.0499 - acc: 0.9843 - val_loss: 0.6561 - val_acc: 0.9513\n",
      "Epoch 25/50\n",
      "60000/60000 [==============================] - 1s 11us/step - loss: 0.0530 - acc: 0.9833 - val_loss: 0.6676 - val_acc: 0.9509\n",
      "Epoch 26/50\n",
      "60000/60000 [==============================] - 1s 11us/step - loss: 0.0526 - acc: 0.9835 - val_loss: 0.6734 - val_acc: 0.9499\n",
      "Epoch 27/50\n",
      "60000/60000 [==============================] - 1s 10us/step - loss: 0.0497 - acc: 0.9844 - val_loss: 0.6646 - val_acc: 0.9518\n",
      "Epoch 28/50\n",
      "60000/60000 [==============================] - 1s 12us/step - loss: 0.0480 - acc: 0.9849 - val_loss: 0.6685 - val_acc: 0.9525\n",
      "Epoch 29/50\n",
      "60000/60000 [==============================] - 1s 11us/step - loss: 0.0490 - acc: 0.9843 - val_loss: 0.6702 - val_acc: 0.9519\n",
      "Epoch 30/50\n",
      "60000/60000 [==============================] - 1s 11us/step - loss: 0.0488 - acc: 0.9847 - val_loss: 0.6844 - val_acc: 0.9520\n",
      "Epoch 31/50\n",
      "60000/60000 [==============================] - 1s 10us/step - loss: 0.0512 - acc: 0.9839 - val_loss: 0.6666 - val_acc: 0.9508\n",
      "Epoch 32/50\n",
      "60000/60000 [==============================] - 1s 11us/step - loss: 0.0507 - acc: 0.9841 - val_loss: 0.6644 - val_acc: 0.9520\n",
      "Epoch 33/50\n",
      "60000/60000 [==============================] - 1s 11us/step - loss: 0.0511 - acc: 0.9839 - val_loss: 0.6451 - val_acc: 0.9490\n",
      "Epoch 34/50\n",
      "60000/60000 [==============================] - 1s 11us/step - loss: 0.0504 - acc: 0.9839 - val_loss: 0.7010 - val_acc: 0.9509\n",
      "Epoch 35/50\n",
      "60000/60000 [==============================] - 1s 11us/step - loss: 0.0478 - acc: 0.9847 - val_loss: 0.7014 - val_acc: 0.9511\n",
      "Epoch 36/50\n",
      "60000/60000 [==============================] - 1s 10us/step - loss: 0.0494 - acc: 0.9844 - val_loss: 0.7331 - val_acc: 0.9493\n",
      "Epoch 37/50\n",
      "60000/60000 [==============================] - 1s 11us/step - loss: 0.0513 - acc: 0.9844 - val_loss: 0.6787 - val_acc: 0.9515\n",
      "Epoch 38/50\n",
      "60000/60000 [==============================] - 1s 11us/step - loss: 0.0486 - acc: 0.9850 - val_loss: 0.7212 - val_acc: 0.9509\n",
      "Epoch 39/50\n",
      "60000/60000 [==============================] - 1s 11us/step - loss: 0.0503 - acc: 0.9842 - val_loss: 0.7073 - val_acc: 0.9511\n",
      "Epoch 40/50\n",
      "60000/60000 [==============================] - 1s 12us/step - loss: 0.0492 - acc: 0.9844 - val_loss: 0.7017 - val_acc: 0.9498\n",
      "Epoch 41/50\n",
      "60000/60000 [==============================] - 1s 18us/step - loss: 0.0483 - acc: 0.9851 - val_loss: 0.6991 - val_acc: 0.9512\n",
      "Epoch 42/50\n",
      "60000/60000 [==============================] - 1s 14us/step - loss: 0.0500 - acc: 0.9842 - val_loss: 0.7024 - val_acc: 0.9504\n",
      "Epoch 43/50\n",
      "60000/60000 [==============================] - 1s 14us/step - loss: 0.0511 - acc: 0.9844 - val_loss: 0.7206 - val_acc: 0.9504\n",
      "Epoch 44/50\n",
      "60000/60000 [==============================] - 1s 15us/step - loss: 0.0513 - acc: 0.9841 - val_loss: 0.7023 - val_acc: 0.9517\n",
      "Epoch 45/50\n",
      "60000/60000 [==============================] - 1s 15us/step - loss: 0.0493 - acc: 0.9845 - val_loss: 0.7569 - val_acc: 0.9523\n",
      "Epoch 46/50\n",
      "60000/60000 [==============================] - 1s 13us/step - loss: 0.0513 - acc: 0.9840 - val_loss: 0.7189 - val_acc: 0.9512\n",
      "Epoch 47/50\n",
      "60000/60000 [==============================] - 1s 13us/step - loss: 0.0480 - acc: 0.9848 - val_loss: 0.7438 - val_acc: 0.9504\n",
      "Epoch 48/50\n",
      "60000/60000 [==============================] - 1s 12us/step - loss: 0.0497 - acc: 0.9847 - val_loss: 0.7262 - val_acc: 0.9500\n",
      "Epoch 49/50\n",
      "60000/60000 [==============================] - 1s 16us/step - loss: 0.0464 - acc: 0.9851 - val_loss: 0.7238 - val_acc: 0.9509\n",
      "Epoch 50/50\n",
      "60000/60000 [==============================] - 1s 14us/step - loss: 0.0458 - acc: 0.9854 - val_loss: 0.7221 - val_acc: 0.9484\n"
     ]
    },
    {
     "data": {
      "text/plain": [
       "<keras.callbacks.callbacks.History at 0x1d7b115a1c8>"
      ]
     },
     "execution_count": 11,
     "metadata": {},
     "output_type": "execute_result"
    }
   ],
   "source": [
    "model.fit(train_image, train_label, epochs=50, batch_size=500, validation_data=(test_image, test_label))"
   ]
  },
  {
   "cell_type": "code",
   "execution_count": 12,
   "metadata": {},
   "outputs": [
    {
     "name": "stdout",
     "output_type": "stream",
     "text": [
      "10000/10000 [==============================] - 0s 25us/step\n"
     ]
    },
    {
     "data": {
      "text/plain": [
       "[0.7220794918544052, 0.9484000205993652]"
      ]
     },
     "execution_count": 12,
     "metadata": {},
     "output_type": "execute_result"
    }
   ],
   "source": [
    "model.evaluate(test_image, test_label)"
   ]
  },
  {
   "cell_type": "code",
   "execution_count": null,
   "metadata": {},
   "outputs": [],
   "source": []
  }
 ],
 "metadata": {
  "kernelspec": {
   "display_name": "Python 3",
   "language": "python",
   "name": "python3"
  },
  "language_info": {
   "codemirror_mode": {
    "name": "ipython",
    "version": 3
   },
   "file_extension": ".py",
   "mimetype": "text/x-python",
   "name": "python",
   "nbconvert_exporter": "python",
   "pygments_lexer": "ipython3",
   "version": "3.7.6"
  }
 },
 "nbformat": 4,
 "nbformat_minor": 4
}
